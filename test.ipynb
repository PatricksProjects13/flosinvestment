{
 "cells": [
  {
   "metadata": {
    "ExecuteTime": {
     "end_time": "2024-12-08T16:35:12.327157Z",
     "start_time": "2024-12-08T16:35:12.322335Z"
    }
   },
   "cell_type": "code",
   "source": "from backend.assets import Share",
   "id": "c6eff1f4adb9574d",
   "outputs": [],
   "execution_count": 12
  },
  {
   "metadata": {
    "ExecuteTime": {
     "end_time": "2024-12-08T16:35:12.359226Z",
     "start_time": "2024-12-08T16:35:12.352729Z"
    }
   },
   "cell_type": "code",
   "source": [
    "a = Share(purchasing_prize_per_unit=1, units=1, time_bought=1)\n",
    "b = Share(purchasing_prize_per_unit=1, units=1, time_bought=2)"
   ],
   "id": "a8bf2ae81c589795",
   "outputs": [],
   "execution_count": 13
  },
  {
   "metadata": {
    "ExecuteTime": {
     "end_time": "2024-12-08T16:35:12.383101Z",
     "start_time": "2024-12-08T16:35:12.379412Z"
    }
   },
   "cell_type": "code",
   "source": "b",
   "id": "2149e8028b8ea1d1",
   "outputs": [],
   "execution_count": 14
  },
  {
   "metadata": {
    "ExecuteTime": {
     "end_time": "2024-12-08T16:35:12.408083Z",
     "start_time": "2024-12-08T16:35:12.392081Z"
    }
   },
   "cell_type": "code",
   "source": "Share.current_prize_per_unit",
   "id": "88893a081203693f",
   "outputs": [
    {
     "ename": "AttributeError",
     "evalue": "type object 'Share' has no attribute 'current_prize'",
     "output_type": "error",
     "traceback": [
      "\u001B[1;31m---------------------------------------------------------------------------\u001B[0m",
      "\u001B[1;31mAttributeError\u001B[0m                            Traceback (most recent call last)",
      "Cell \u001B[1;32mIn[15], line 1\u001B[0m\n\u001B[1;32m----> 1\u001B[0m \u001B[43mShare\u001B[49m\u001B[38;5;241;43m.\u001B[39;49m\u001B[43mcurrent_prize\u001B[49m\n",
      "\u001B[1;31mAttributeError\u001B[0m: type object 'Share' has no attribute 'current_prize'"
     ]
    }
   ],
   "execution_count": 15
  },
  {
   "metadata": {
    "ExecuteTime": {
     "end_time": "2024-12-08T16:35:28.021324Z",
     "start_time": "2024-12-08T16:35:28.015292Z"
    }
   },
   "cell_type": "code",
   "source": "a.__dict__",
   "id": "32dd79cc60821c20",
   "outputs": [
    {
     "data": {
      "text/plain": [
       "{'purchasing_prize': 1, 'amount': 1, 'time_bought': 1}"
      ]
     },
     "execution_count": 18,
     "metadata": {},
     "output_type": "execute_result"
    }
   ],
   "execution_count": 18
  },
  {
   "metadata": {},
   "cell_type": "code",
   "outputs": [],
   "execution_count": null,
   "source": "",
   "id": "16bb9446dbfe7b5a"
  }
 ],
 "metadata": {
  "kernelspec": {
   "display_name": "Python 3",
   "language": "python",
   "name": "python3"
  },
  "language_info": {
   "codemirror_mode": {
    "name": "ipython",
    "version": 2
   },
   "file_extension": ".py",
   "mimetype": "text/x-python",
   "name": "python",
   "nbconvert_exporter": "python",
   "pygments_lexer": "ipython2",
   "version": "2.7.6"
  }
 },
 "nbformat": 4,
 "nbformat_minor": 5
}
